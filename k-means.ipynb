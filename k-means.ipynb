{
 "cells": [
  {
   "cell_type": "code",
   "execution_count": 46,
   "id": "chinese-newman",
   "metadata": {},
   "outputs": [],
   "source": [
    "import random\n",
    "import math\n",
    "import matplotlib.pyplot as plt\n",
    "import pandas as pd"
   ]
  },
  {
   "cell_type": "code",
   "execution_count": 2,
   "id": "facial-starter",
   "metadata": {},
   "outputs": [],
   "source": [
    "data_x = [random.uniform(1,20)for i in range(0,100)]"
   ]
  },
  {
   "cell_type": "code",
   "execution_count": 4,
   "id": "mexican-associate",
   "metadata": {},
   "outputs": [],
   "source": [
    "data_y = [random.uniform(1,20)for i in range(0,100)]"
   ]
  },
  {
   "cell_type": "code",
   "execution_count": 5,
   "id": "weird-joseph",
   "metadata": {},
   "outputs": [],
   "source": [
    "data = [] \n",
    "for i in range(0,len(data_x)): \n",
    "    data.append([data_x[i],data_y[i]])"
   ]
  },
  {
   "cell_type": "code",
   "execution_count": 26,
   "id": "biological-conversation",
   "metadata": {},
   "outputs": [],
   "source": [
    "def ecludian_disctance(value_left,value_right):\n",
    "    '''\n",
    "    This function is for count ecludian distance\n",
    "    \n",
    "    args:\n",
    "        value_left (list): array with value x,y\n",
    "        value_right (list): array with value x,y\n",
    "    return:\n",
    "        float : distance between them\n",
    "    '''\n",
    "    diff_x = abs(value_left[0] - value_right[0])\n",
    "    diff_y = abs(value_left[1] - value_left[1])\n",
    "    return math.sqrt(math.pow(diff_x,2) + math.pow(diff_y,2))\n",
    "\n",
    "def k_means(k=None , random_seed = 42, data=None):\n",
    "    '''\n",
    "    This function is used for get the kmeans group\n",
    "    \n",
    "    Args:\n",
    "        K (int): number of cluster\n",
    "        random_seed (int): random number for pick center\n",
    "        data (list): list of data that want to cluster\n",
    "    '''\n",
    "    pick_center = []\n",
    "    pick_center_index = []\n",
    "    result = {}\n",
    "    for i in range(0,k):\n",
    "        random.seed(random_seed + i*10)\n",
    "        random_index = random.randint(0,len(data))\n",
    "        pick_center_index.append(random_index)\n",
    "        pick_center.append(data[random_index])\n",
    "        result[i] = [data[random_index]]\n",
    "    \n",
    "    for i in range(0,len(data)):\n",
    "        if i in pick_center_index:\n",
    "            continue\n",
    "        min_distances_k = 0\n",
    "        min_distance = 0\n",
    "        for j in range(0, k):\n",
    "            distance = ecludian_disctance(pick_center[j],data[i])\n",
    "            if min_distance ==0 or min_distance > distance:\n",
    "                min_distance = distance\n",
    "                min_distances_k = j\n",
    "        result[min_distances_k].append(data[i])            \n",
    "    return result\n",
    "\n",
    "def min_max_values(values):\n",
    "    '''\n",
    "    This function is used to get the min max value for data with 2 dimentional_array\n",
    "    \n",
    "    Args:\n",
    "        values (list) : 2 dimentional arrays with value[[x,y]]\n",
    "    \n",
    "    Returns :\n",
    "        float : min x\n",
    "        float : max x \n",
    "        float : min y\n",
    "        float : max y\n",
    "    '''\n",
    "    \n",
    "    min_x =0\n",
    "    min_y =0\n",
    "    max_x =0\n",
    "    max_y =0\n",
    "    \n",
    "    for value in values:\n",
    "        if min_x ==0 :\n",
    "            min_x = value[0]\n",
    "            max_x = value[0]\n",
    "            min_y = value[1]\n",
    "            max_y = value[1]\n",
    "            continue\n",
    "        min_x = min(min_x,value[0])\n",
    "        min_y = min(min_y,value[1])\n",
    "        max_x = max(max_x,value[0])\n",
    "        max_y = min(max_y,value[1])\n",
    "    return min_x,max_x, min_y,max_y\n",
    "\n",
    "def get_centroid(values):\n",
    "    '''\n",
    "    this function is used for get centroid from dictionary result\n",
    "    \n",
    "    Args:\n",
    "        values (dict): key was the cluster and value are arrays\n",
    "    \n",
    "    return\n",
    "        list : list of centroid each cluster\n",
    "    '''\n",
    "    result = []\n",
    "    for key,value in values.items():\n",
    "        min_x,max_x,min_y,max_y = min_max_values(value)\n",
    "        x = (min_x + max_x)/2\n",
    "        y = (min_y + max_y)/2\n",
    "        xy = [x,y]\n",
    "        min_distance = 0\n",
    "        min_distance_index = 0\n",
    "        for i, val in enumerate(value):\n",
    "            distance = ecludian_disctance(xy,val)\n",
    "            if min_distance ==0 or min_distance > distance:\n",
    "                min_distance = distance\n",
    "                min_distance_index = i\n",
    "        result.append(value[min_distance_index])\n",
    "    \n",
    "    return result\n",
    "            \n",
    "        "
   ]
  },
  {
   "cell_type": "code",
   "execution_count": 20,
   "id": "thorough-soviet",
   "metadata": {},
   "outputs": [],
   "source": [
    "result = k_means(3,42,data)"
   ]
  },
  {
   "cell_type": "code",
   "execution_count": 27,
   "id": "veterinary-phone",
   "metadata": {},
   "outputs": [
    {
     "data": {
      "text/plain": [
       "[[11.183458891879337, 18.070006104307748],\n",
       " [17.12511185390552, 6.204721137538448],\n",
       " [4.362666379167635, 16.471753382705963]]"
      ]
     },
     "execution_count": 27,
     "metadata": {},
     "output_type": "execute_result"
    }
   ],
   "source": [
    "get_centroid(result)"
   ]
  },
  {
   "cell_type": "code",
   "execution_count": 49,
   "id": "automated-fault",
   "metadata": {},
   "outputs": [
    {
     "data": {
      "text/plain": [
       "<matplotlib.legend.Legend at 0x13d37c190>"
      ]
     },
     "execution_count": 49,
     "metadata": {},
     "output_type": "execute_result"
    },
    {
     "data": {
      "image/png": "[encoded data removed]",
      "text/plain": [
       "<Figure size 432x288 with 1 Axes>"
      ]
     },
     "metadata": {
      "needs_background": "light"
     },
     "output_type": "display_data"
    }
   ],
   "source": [
    "for key,value in result.items():\n",
    "    x = [x[0] for x in value]\n",
    "    y = [x[1] for x in value]\n",
    "    plt.scatter(x,y, label=key)\n",
    "plt.legend()"
   ]
  },
  {
   "cell_type": "code",
   "execution_count": null,
   "id": "offensive-quantum",
   "metadata": {},
   "outputs": [],
   "source": []
  }
 ],
 "metadata": {
  "kernelspec": {
   "display_name": "Python 3",
   "language": "python",
   "name": "python3"
  },
  "language_info": {
   "codemirror_mode": {
    "name": "ipython",
    "version": 3
   },
   "file_extension": ".py",
   "mimetype": "text/x-python",
   "name": "python",
   "nbconvert_exporter": "python",
   "pygments_lexer": "ipython3",
   "version": "3.8.2"
  }
 },
 "nbformat": 4,
 "nbformat_minor": 5
}
